{
 "cells": [
  {
   "cell_type": "code",
   "execution_count": 1,
   "metadata": {},
   "outputs": [],
   "source": [
    "import pandas as pd\n",
    "from sqlalchemy import create_engine\n",
    "from splinter import Browser\n",
    "from bs4 import BeautifulSoup"
   ]
  },
  {
   "cell_type": "markdown",
   "metadata": {},
   "source": [
    "## Importing csv files to dataframes"
   ]
  },
  {
   "cell_type": "code",
   "execution_count": 172,
   "metadata": {},
   "outputs": [
    {
     "data": {
      "text/html": [
       "<div>\n",
       "<style scoped>\n",
       "    .dataframe tbody tr th:only-of-type {\n",
       "        vertical-align: middle;\n",
       "    }\n",
       "\n",
       "    .dataframe tbody tr th {\n",
       "        vertical-align: top;\n",
       "    }\n",
       "\n",
       "    .dataframe thead th {\n",
       "        text-align: right;\n",
       "    }\n",
       "</style>\n",
       "<table border=\"1\" class=\"dataframe\">\n",
       "  <thead>\n",
       "    <tr style=\"text-align: right;\">\n",
       "      <th></th>\n",
       "      <th>Unnamed: 0</th>\n",
       "      <th>abv</th>\n",
       "      <th>ibu</th>\n",
       "      <th>id</th>\n",
       "      <th>name</th>\n",
       "      <th>style</th>\n",
       "      <th>brewery_id</th>\n",
       "      <th>ounces</th>\n",
       "    </tr>\n",
       "  </thead>\n",
       "  <tbody>\n",
       "    <tr>\n",
       "      <th>0</th>\n",
       "      <td>0</td>\n",
       "      <td>0.050</td>\n",
       "      <td>NaN</td>\n",
       "      <td>1436</td>\n",
       "      <td>Pub Beer</td>\n",
       "      <td>American Pale Lager</td>\n",
       "      <td>408</td>\n",
       "      <td>12.0</td>\n",
       "    </tr>\n",
       "    <tr>\n",
       "      <th>1</th>\n",
       "      <td>1</td>\n",
       "      <td>0.066</td>\n",
       "      <td>NaN</td>\n",
       "      <td>2265</td>\n",
       "      <td>Devil's Cup</td>\n",
       "      <td>American Pale Ale (APA)</td>\n",
       "      <td>177</td>\n",
       "      <td>12.0</td>\n",
       "    </tr>\n",
       "    <tr>\n",
       "      <th>2</th>\n",
       "      <td>2</td>\n",
       "      <td>0.071</td>\n",
       "      <td>NaN</td>\n",
       "      <td>2264</td>\n",
       "      <td>Rise of the Phoenix</td>\n",
       "      <td>American IPA</td>\n",
       "      <td>177</td>\n",
       "      <td>12.0</td>\n",
       "    </tr>\n",
       "    <tr>\n",
       "      <th>3</th>\n",
       "      <td>3</td>\n",
       "      <td>0.090</td>\n",
       "      <td>NaN</td>\n",
       "      <td>2263</td>\n",
       "      <td>Sinister</td>\n",
       "      <td>American Double / Imperial IPA</td>\n",
       "      <td>177</td>\n",
       "      <td>12.0</td>\n",
       "    </tr>\n",
       "    <tr>\n",
       "      <th>4</th>\n",
       "      <td>4</td>\n",
       "      <td>0.075</td>\n",
       "      <td>NaN</td>\n",
       "      <td>2262</td>\n",
       "      <td>Sex and Candy</td>\n",
       "      <td>American IPA</td>\n",
       "      <td>177</td>\n",
       "      <td>12.0</td>\n",
       "    </tr>\n",
       "  </tbody>\n",
       "</table>\n",
       "</div>"
      ],
      "text/plain": [
       "   Unnamed: 0    abv  ibu    id                 name  \\\n",
       "0           0  0.050  NaN  1436             Pub Beer   \n",
       "1           1  0.066  NaN  2265          Devil's Cup   \n",
       "2           2  0.071  NaN  2264  Rise of the Phoenix   \n",
       "3           3  0.090  NaN  2263             Sinister   \n",
       "4           4  0.075  NaN  2262        Sex and Candy   \n",
       "\n",
       "                            style  brewery_id  ounces  \n",
       "0             American Pale Lager         408    12.0  \n",
       "1         American Pale Ale (APA)         177    12.0  \n",
       "2                    American IPA         177    12.0  \n",
       "3  American Double / Imperial IPA         177    12.0  \n",
       "4                    American IPA         177    12.0  "
      ]
     },
     "execution_count": 172,
     "metadata": {},
     "output_type": "execute_result"
    }
   ],
   "source": [
    "beers_file = \"Resources/beers.csv\"\n",
    "beers_df = pd.read_csv(beers_file)\n",
    "beers_df.head()"
   ]
  },
  {
   "cell_type": "code",
   "execution_count": 171,
   "metadata": {},
   "outputs": [
    {
     "data": {
      "text/html": [
       "<div>\n",
       "<style scoped>\n",
       "    .dataframe tbody tr th:only-of-type {\n",
       "        vertical-align: middle;\n",
       "    }\n",
       "\n",
       "    .dataframe tbody tr th {\n",
       "        vertical-align: top;\n",
       "    }\n",
       "\n",
       "    .dataframe thead th {\n",
       "        text-align: right;\n",
       "    }\n",
       "</style>\n",
       "<table border=\"1\" class=\"dataframe\">\n",
       "  <thead>\n",
       "    <tr style=\"text-align: right;\">\n",
       "      <th></th>\n",
       "      <th>Unnamed: 0</th>\n",
       "      <th>name</th>\n",
       "      <th>city</th>\n",
       "      <th>state</th>\n",
       "    </tr>\n",
       "  </thead>\n",
       "  <tbody>\n",
       "    <tr>\n",
       "      <th>0</th>\n",
       "      <td>0</td>\n",
       "      <td>NorthGate Brewing</td>\n",
       "      <td>Minneapolis</td>\n",
       "      <td>MN</td>\n",
       "    </tr>\n",
       "    <tr>\n",
       "      <th>1</th>\n",
       "      <td>1</td>\n",
       "      <td>Against the Grain Brewery</td>\n",
       "      <td>Louisville</td>\n",
       "      <td>KY</td>\n",
       "    </tr>\n",
       "    <tr>\n",
       "      <th>2</th>\n",
       "      <td>2</td>\n",
       "      <td>Jack's Abby Craft Lagers</td>\n",
       "      <td>Framingham</td>\n",
       "      <td>MA</td>\n",
       "    </tr>\n",
       "    <tr>\n",
       "      <th>3</th>\n",
       "      <td>3</td>\n",
       "      <td>Mike Hess Brewing Company</td>\n",
       "      <td>San Diego</td>\n",
       "      <td>CA</td>\n",
       "    </tr>\n",
       "    <tr>\n",
       "      <th>4</th>\n",
       "      <td>4</td>\n",
       "      <td>Fort Point Beer Company</td>\n",
       "      <td>San Francisco</td>\n",
       "      <td>CA</td>\n",
       "    </tr>\n",
       "  </tbody>\n",
       "</table>\n",
       "</div>"
      ],
      "text/plain": [
       "   Unnamed: 0                       name           city state\n",
       "0           0         NorthGate Brewing     Minneapolis    MN\n",
       "1           1  Against the Grain Brewery     Louisville    KY\n",
       "2           2   Jack's Abby Craft Lagers     Framingham    MA\n",
       "3           3  Mike Hess Brewing Company      San Diego    CA\n",
       "4           4    Fort Point Beer Company  San Francisco    CA"
      ]
     },
     "execution_count": 171,
     "metadata": {},
     "output_type": "execute_result"
    }
   ],
   "source": [
    "breweries_file = \"Resources/breweries.csv\"\n",
    "breweries_df = pd.read_csv(breweries_file)\n",
    "breweries_df.head()"
   ]
  },
  {
   "cell_type": "markdown",
   "metadata": {},
   "source": [
    "## Windows Path"
   ]
  },
  {
   "cell_type": "code",
   "execution_count": 4,
   "metadata": {},
   "outputs": [],
   "source": [
    "executable_path = {'executable_path': 'chromedriver.exe'}\n",
    "browser = Browser('chrome', **executable_path, headless=False)"
   ]
  },
  {
   "cell_type": "markdown",
   "metadata": {},
   "source": [
    "## Mac Path"
   ]
  },
  {
   "cell_type": "code",
   "execution_count": null,
   "metadata": {},
   "outputs": [],
   "source": [
    "executable_path = {'executable_path': '/usr/local/bin/chromedriver'}\n",
    "browser = Browser('chrome', **executable_path, headless=False)"
   ]
  },
  {
   "cell_type": "markdown",
   "metadata": {},
   "source": [
    "## Scraping Data from Brewers Association Website"
   ]
  },
  {
   "cell_type": "code",
   "execution_count": 147,
   "metadata": {},
   "outputs": [],
   "source": [
    "url = 'https://www.brewersassociation.org/statistics-and-data/state-craft-beer-stats/'\n",
    "browser.visit(url)\n",
    "html = browser.html\n",
    "soup = BeautifulSoup(html, 'html.parser')"
   ]
  },
  {
   "cell_type": "code",
   "execution_count": 216,
   "metadata": {},
   "outputs": [],
   "source": [
    "#                           NOT WORKING \n",
    "\n",
    "#State cards with data to scrape\n",
    "states_cards = soup.find('section', class_='site-content wide')\n",
    "states = states_cards.find_all('div', class_='stat-container')\n",
    "\n",
    "\n",
    "#Set up lists to append into\n",
    "state_list = []\n",
    "million_dollars_list = []\n",
    "breweries_per_capita_list = []\n",
    "barrels_produced_list = []\n",
    "gallons_per_adult_list = []\n",
    "\n",
    "\n",
    "\n"
   ]
  },
  {
   "cell_type": "code",
   "execution_count": 217,
   "metadata": {},
   "outputs": [],
   "source": [
    "for state in states:\n",
    "    states = states_cards.find('div', class_='stat-container')\n",
    "    state_name = states.find('h1').text.strip()\n",
    "    state_list.append(state_name)\n",
    "    #million dollars is the first one\n",
    "    million_dollars = states_cards.find('span', class_='total').find('span', class_='count').text.strip()\n",
    "    million_dollars_list.append(million_dollars)\n",
    "    breweries_per_capita = states_cards.find('span', class_=\"bpc\").find('span', class_= 'count').text.strip()\n",
    "    breweries_per_capita_list.append(breweries_per_capita)\n",
    "    #barrels produced is the second one\n",
    "    barrels_produced = states_cards.find('span', class_='total').find('span', class_='count').text.strip()\n",
    "    barrels_produced_list.append(barrels_produced)\n",
    "    gallons_per_adult = states_cards.find('span', class_='per-capita').find('span', class_='count').text.strip()\n",
    "    gallons_per_adult_list.append(gallons_per_adult)"
   ]
  },
  {
   "cell_type": "code",
   "execution_count": 218,
   "metadata": {},
   "outputs": [
    {
     "data": {
      "text/plain": [
       "['Alabama',\n",
       " 'Alabama',\n",
       " 'Alabama',\n",
       " 'Alabama',\n",
       " 'Alabama',\n",
       " 'Alabama',\n",
       " 'Alabama',\n",
       " 'Alabama',\n",
       " 'Alabama',\n",
       " 'Alabama',\n",
       " 'Alabama',\n",
       " 'Alabama',\n",
       " 'Alabama',\n",
       " 'Alabama',\n",
       " 'Alabama',\n",
       " 'Alabama',\n",
       " 'Alabama',\n",
       " 'Alabama',\n",
       " 'Alabama',\n",
       " 'Alabama',\n",
       " 'Alabama',\n",
       " 'Alabama',\n",
       " 'Alabama',\n",
       " 'Alabama',\n",
       " 'Alabama',\n",
       " 'Alabama',\n",
       " 'Alabama',\n",
       " 'Alabama',\n",
       " 'Alabama',\n",
       " 'Alabama',\n",
       " 'Alabama',\n",
       " 'Alabama',\n",
       " 'Alabama',\n",
       " 'Alabama',\n",
       " 'Alabama',\n",
       " 'Alabama',\n",
       " 'Alabama',\n",
       " 'Alabama',\n",
       " 'Alabama',\n",
       " 'Alabama',\n",
       " 'Alabama',\n",
       " 'Alabama',\n",
       " 'Alabama',\n",
       " 'Alabama',\n",
       " 'Alabama',\n",
       " 'Alabama',\n",
       " 'Alabama',\n",
       " 'Alabama',\n",
       " 'Alabama',\n",
       " 'Alabama',\n",
       " 'Alabama']"
      ]
     },
     "execution_count": 218,
     "metadata": {},
     "output_type": "execute_result"
    }
   ],
   "source": [
    "state_list"
   ]
  },
  {
   "cell_type": "code",
   "execution_count": 182,
   "metadata": {},
   "outputs": [
    {
     "data": {
      "text/plain": [
       "['758',\n",
       " '758',\n",
       " '758',\n",
       " '758',\n",
       " '758',\n",
       " '758',\n",
       " '758',\n",
       " '758',\n",
       " '758',\n",
       " '758',\n",
       " '758',\n",
       " '758',\n",
       " '758',\n",
       " '758',\n",
       " '758',\n",
       " '758',\n",
       " '758',\n",
       " '758',\n",
       " '758',\n",
       " '758',\n",
       " '758',\n",
       " '758',\n",
       " '758',\n",
       " '758',\n",
       " '758',\n",
       " '758',\n",
       " '758',\n",
       " '758',\n",
       " '758',\n",
       " '758',\n",
       " '758',\n",
       " '758',\n",
       " '758',\n",
       " '758',\n",
       " '758',\n",
       " '758',\n",
       " '758',\n",
       " '758',\n",
       " '758',\n",
       " '758',\n",
       " '758',\n",
       " '758',\n",
       " '758',\n",
       " '758',\n",
       " '758',\n",
       " '758',\n",
       " '758',\n",
       " '758',\n",
       " '758',\n",
       " '758',\n",
       " '758',\n",
       " '758',\n",
       " '758',\n",
       " '758']"
      ]
     },
     "execution_count": 182,
     "metadata": {},
     "output_type": "execute_result"
    }
   ],
   "source": [
    "million_dollars_list"
   ]
  },
  {
   "cell_type": "code",
   "execution_count": 183,
   "metadata": {},
   "outputs": [
    {
     "data": {
      "text/plain": [
       "['1.1',\n",
       " '1.1',\n",
       " '1.1',\n",
       " '1.1',\n",
       " '1.1',\n",
       " '1.1',\n",
       " '1.1',\n",
       " '1.1',\n",
       " '1.1',\n",
       " '1.1',\n",
       " '1.1',\n",
       " '1.1',\n",
       " '1.1',\n",
       " '1.1',\n",
       " '1.1',\n",
       " '1.1',\n",
       " '1.1',\n",
       " '1.1',\n",
       " '1.1',\n",
       " '1.1',\n",
       " '1.1',\n",
       " '1.1',\n",
       " '1.1',\n",
       " '1.1',\n",
       " '1.1',\n",
       " '1.1',\n",
       " '1.1',\n",
       " '1.1',\n",
       " '1.1',\n",
       " '1.1',\n",
       " '1.1',\n",
       " '1.1',\n",
       " '1.1',\n",
       " '1.1',\n",
       " '1.1',\n",
       " '1.1',\n",
       " '1.1',\n",
       " '1.1',\n",
       " '1.1',\n",
       " '1.1',\n",
       " '1.1',\n",
       " '1.1',\n",
       " '1.1',\n",
       " '1.1',\n",
       " '1.1',\n",
       " '1.1',\n",
       " '1.1',\n",
       " '1.1',\n",
       " '1.1',\n",
       " '1.1',\n",
       " '1.1',\n",
       " '1.1',\n",
       " '1.1',\n",
       " '1.1']"
      ]
     },
     "execution_count": 183,
     "metadata": {},
     "output_type": "execute_result"
    }
   ],
   "source": [
    "breweries_per_capita_list"
   ]
  },
  {
   "cell_type": "code",
   "execution_count": 166,
   "metadata": {},
   "outputs": [
    {
     "data": {
      "text/plain": [
       "['758', '758', '758', '758', '758', '758']"
      ]
     },
     "execution_count": 166,
     "metadata": {},
     "output_type": "execute_result"
    }
   ],
   "source": [
    "barrels_produced_list"
   ]
  },
  {
   "cell_type": "code",
   "execution_count": 167,
   "metadata": {},
   "outputs": [
    {
     "data": {
      "text/plain": [
       "['1.1', '1.1', '1.1', '1.1', '1.1', '1.1']"
      ]
     },
     "execution_count": 167,
     "metadata": {},
     "output_type": "execute_result"
    }
   ],
   "source": [
    "gallons_per_adult_list"
   ]
  },
  {
   "cell_type": "code",
   "execution_count": null,
   "metadata": {},
   "outputs": [],
   "source": [
    "url = 'https://www.brewersassociation.org/statistics-and-data/state-craft-beer-stats/'\n",
    "browser.visit(url)\n",
    "html = browser.html\n",
    "soup = BeautifulSoup(html, 'html.parser')\n",
    "#State cards with data to scrape\n",
    "states = soup.find_all('div', class_='stat-container')\n",
    "#Locations for data to scrape\n",
    "state_name = states.find_all('h1')\n",
    "million_dollars = states.find_all('span', class_='total').find('span', class_='count')[0]\n",
    "breweries_per_capita = states.find_all('span', class_=\"bpc\").find('span', class_= 'count')\n",
    "barrels_produced = states.find_all('span', class_='total').find('span', class_='count')[1]\n",
    "gallons_per_adult = states.find_all('span', class_='per-capita').find('span', class_='count')\n",
    "#Set up lists to append into\n",
    "state_list = []\n",
    "million_dollars_list = []\n",
    "breweries_per_capita_list = []\n",
    "barrels_produced_list = []\n",
    "gallons_per_adult_list = []\n",
    "\n",
    "\n",
    "for state in states:\n",
    "    name = state_name.text.strip()\n",
    "    state_list.append(state)\n",
    "    money = million_dollars.text.strip()\n",
    "    million_dollars_list.apppend(money)\n",
    "    breweries = breweries_per_capita.text.strip()\n",
    "    breweries_per_capita_list.apppend(breweries)\n",
    "    barrels = barrels_produced.text.strip()\n",
    "    barrels_produced_list.apppend(barrels)\n",
    "    gallons = gallons_per_adult.text.strip()\n",
    "    gallons_per_adult_list.apppend(gallons)"
   ]
  },
  {
   "cell_type": "markdown",
   "metadata": {},
   "source": [
    "## Transforming Data  (example code for what we will do later)"
   ]
  },
  {
   "cell_type": "code",
   "execution_count": null,
   "metadata": {},
   "outputs": [],
   "source": [
    " # Create a filtered dataframe from specific columns\n",
    "#premise_cols = [\"License Serial Number\", \"Premises Name\", \"County ID Code\"]\n",
    "#premise_transformed= premise_df[premise_cols].copy()\n",
    "\n",
    "# Rename the column headers\n",
    "#premise_transformed = premise_transformed.rename(columns={\"License Serial Number\": \"id\",\n",
    "                                                          \"Premises Name\": \"premise_name\",\n",
    "                                                          \"County ID Code\": \"county_id\"})\n",
    "\n",
    "# Clean the data by dropping duplicates and setting the index\n",
    "#premise_transformed.drop_duplicates(\"id\", inplace=True)\n",
    "#premise_transformed.set_index(\"id\", inplace=True)\n",
    "\n",
    "#premise_transformed.head()"
   ]
  },
  {
   "cell_type": "code",
   "execution_count": null,
   "metadata": {},
   "outputs": [],
   "source": [
    "#county_cols = [\"ID\", \"County Name (Licensee)\", \"County ID Code\", \"License Count\"]\n",
    "#county_transformed = county_df[county_cols].copy()\n",
    "\n",
    "# Rename the column headers\n",
    "#county_transformed = county_transformed.rename(columns={\"ID\": \"id\",\n",
    "                                                         \"County Name (Licensee)\": \"county_name\",\n",
    "                                                         \"License Count\": \"license_count\",\n",
    "                                                         \"County ID Code\": \"county_id\"})\n",
    "\n",
    "# Set index\n",
    "#county_transformed.set_index(\"id\", inplace=True)\n",
    "\n",
    "#county_transformed.head()"
   ]
  },
  {
   "cell_type": "markdown",
   "metadata": {},
   "source": [
    "## Connecting to postgres"
   ]
  },
  {
   "cell_type": "code",
   "execution_count": null,
   "metadata": {},
   "outputs": [],
   "source": [
    "connection_string = \"postgres:postgres@localhost:5432/customer_db\"\n",
    "engine = create_engine(f'postgresql://{connection_string}')"
   ]
  },
  {
   "cell_type": "code",
   "execution_count": null,
   "metadata": {},
   "outputs": [],
   "source": [
    "# Confirm tables\n",
    "engine.table_names()"
   ]
  },
  {
   "cell_type": "code",
   "execution_count": null,
   "metadata": {},
   "outputs": [],
   "source": [
    "premise_transformed.to_sql(name='premise', con=engine, if_exists='append', index=True) "
   ]
  },
  {
   "cell_type": "code",
   "execution_count": null,
   "metadata": {},
   "outputs": [],
   "source": [
    "county_transformed.to_sql(name='county', con=engine, if_exists='append', index=True) "
   ]
  },
  {
   "cell_type": "code",
   "execution_count": null,
   "metadata": {},
   "outputs": [],
   "source": []
  },
  {
   "cell_type": "code",
   "execution_count": null,
   "metadata": {},
   "outputs": [],
   "source": []
  }
 ],
 "metadata": {
  "kernelspec": {
   "display_name": "Python [conda env:root] *",
   "language": "python",
   "name": "conda-root-py"
  },
  "language_info": {
   "codemirror_mode": {
    "name": "ipython",
    "version": 3
   },
   "file_extension": ".py",
   "mimetype": "text/x-python",
   "name": "python",
   "nbconvert_exporter": "python",
   "pygments_lexer": "ipython3",
   "version": "3.7.3"
  }
 },
 "nbformat": 4,
 "nbformat_minor": 2
}
